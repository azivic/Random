{
  "nbformat": 4,
  "nbformat_minor": 0,
  "metadata": {
    "colab": {
      "name": "Language detection + working with folders.ipynb",
      "provenance": [],
      "collapsed_sections": []
    },
    "kernelspec": {
      "name": "python3",
      "display_name": "Python 3"
    }
  },
  "cells": [
    {
      "cell_type": "markdown",
      "metadata": {
        "id": "kTueNdmkYTJT"
      },
      "source": [
        "# Basics"
      ]
    },
    {
      "cell_type": "code",
      "metadata": {
        "id": "oL2WQF1LXPkf"
      },
      "source": [
        "pip install langdetect"
      ],
      "execution_count": null,
      "outputs": []
    },
    {
      "cell_type": "code",
      "metadata": {
        "id": "SW3U0874XfAI"
      },
      "source": [
        "import numpy as np\n",
        "import pandas as pd\n",
        "from langdetect import detect "
      ],
      "execution_count": 17,
      "outputs": []
    },
    {
      "cell_type": "code",
      "metadata": {
        "colab": {
          "base_uri": "https://localhost:8080/"
        },
        "id": "lhvWiZWLY7TU",
        "outputId": "4aa09688-1662-42cd-ffce-923994799378"
      },
      "source": [
        "print(detect(\"What language is this?\"))\n",
        "print(detect(\"Piante e alberi possono aiutare a ridurre la violenza nelle prigioni\"))\n",
        "print(detect(\"Раньше люди впадали в спячку\"))\n",
        "print(detect(\"あるかばんの会社が、電車やバスで\"))\n",
        "print(detect(\"Uspeh je zagarantovan\"))"
      ],
      "execution_count": 117,
      "outputs": [
        {
          "output_type": "stream",
          "text": [
            "en\n",
            "it\n",
            "ru\n",
            "ja\n",
            "sl\n"
          ],
          "name": "stdout"
        }
      ]
    },
    {
      "cell_type": "code",
      "metadata": {
        "colab": {
          "base_uri": "https://localhost:8080/"
        },
        "id": "Sc69NpLpZFWM",
        "outputId": "d88abc13-2f35-4506-dec6-f2e10afc40e7"
      },
      "source": [
        "#probability of lang. detection\n",
        "from langdetect import detect_langs\n",
        "from langdetect import DetectorFactory\n",
        "\n",
        "DetectorFactory.seed = 0\n",
        "\n",
        "print(detect_langs(\"What language is this?\"))\n",
        "print(detect_langs(\"Piante e alberi possono aiutare a ridurre la violenza nelle prigioni\"))\n",
        "print(detect_langs(\"Раньше люди впадали в спячку\"))\n",
        "print(detect_langs(\"あるかばんの会社が、電車やバスで\"))\n",
        "print(detect_langs(\"Uspeh je zagarantovan\"))"
      ],
      "execution_count": 18,
      "outputs": [
        {
          "output_type": "stream",
          "text": [
            "[en:0.9999981458616833]\n",
            "[it:0.9999964031153692]\n",
            "[ru:0.9999932930198773]\n",
            "[ja:0.9999999996086719]\n",
            "[sl:0.9999932997544949]\n"
          ],
          "name": "stdout"
        }
      ]
    },
    {
      "cell_type": "code",
      "metadata": {
        "colab": {
          "base_uri": "https://localhost:8080/"
        },
        "id": "fUHM_loRbEcv",
        "outputId": "d4019d86-b0d3-4592-b8da-10c568ad9f7b"
      },
      "source": [
        "detect_langs(\"Otec matka syn.\")"
      ],
      "execution_count": null,
      "outputs": [
        {
          "output_type": "execute_result",
          "data": {
            "text/plain": [
              "[pl:0.8571394483837576, fi:0.14285787958897214]"
            ]
          },
          "metadata": {
            "tags": []
          },
          "execution_count": 224
        }
      ]
    },
    {
      "cell_type": "code",
      "metadata": {
        "colab": {
          "base_uri": "https://localhost:8080/"
        },
        "id": "vzOy77dCX3ML",
        "outputId": "1ba72492-07c5-44e1-e9c0-a7c1b35610a4"
      },
      "source": [
        "import langdetect as ld\n",
        "print (ld.detect(\"wh\"))"
      ],
      "execution_count": 66,
      "outputs": [
        {
          "output_type": "stream",
          "text": [
            "en\n"
          ],
          "name": "stdout"
        }
      ]
    },
    {
      "cell_type": "markdown",
      "metadata": {
        "id": "rTLNtqLbYb-F"
      },
      "source": [
        "# Working with zip folder"
      ]
    },
    {
      "cell_type": "code",
      "metadata": {
        "colab": {
          "resources": {
            "http://localhost:8080/nbextensions/google.colab/files.js": {
              "data": "Ly8gQ29weXJpZ2h0IDIwMTcgR29vZ2xlIExMQwovLwovLyBMaWNlbnNlZCB1bmRlciB0aGUgQXBhY2hlIExpY2Vuc2UsIFZlcnNpb24gMi4wICh0aGUgIkxpY2Vuc2UiKTsKLy8geW91IG1heSBub3QgdXNlIHRoaXMgZmlsZSBleGNlcHQgaW4gY29tcGxpYW5jZSB3aXRoIHRoZSBMaWNlbnNlLgovLyBZb3UgbWF5IG9idGFpbiBhIGNvcHkgb2YgdGhlIExpY2Vuc2UgYXQKLy8KLy8gICAgICBodHRwOi8vd3d3LmFwYWNoZS5vcmcvbGljZW5zZXMvTElDRU5TRS0yLjAKLy8KLy8gVW5sZXNzIHJlcXVpcmVkIGJ5IGFwcGxpY2FibGUgbGF3IG9yIGFncmVlZCB0byBpbiB3cml0aW5nLCBzb2Z0d2FyZQovLyBkaXN0cmlidXRlZCB1bmRlciB0aGUgTGljZW5zZSBpcyBkaXN0cmlidXRlZCBvbiBhbiAiQVMgSVMiIEJBU0lTLAovLyBXSVRIT1VUIFdBUlJBTlRJRVMgT1IgQ09ORElUSU9OUyBPRiBBTlkgS0lORCwgZWl0aGVyIGV4cHJlc3Mgb3IgaW1wbGllZC4KLy8gU2VlIHRoZSBMaWNlbnNlIGZvciB0aGUgc3BlY2lmaWMgbGFuZ3VhZ2UgZ292ZXJuaW5nIHBlcm1pc3Npb25zIGFuZAovLyBsaW1pdGF0aW9ucyB1bmRlciB0aGUgTGljZW5zZS4KCi8qKgogKiBAZmlsZW92ZXJ2aWV3IEhlbHBlcnMgZm9yIGdvb2dsZS5jb2xhYiBQeXRob24gbW9kdWxlLgogKi8KKGZ1bmN0aW9uKHNjb3BlKSB7CmZ1bmN0aW9uIHNwYW4odGV4dCwgc3R5bGVBdHRyaWJ1dGVzID0ge30pIHsKICBjb25zdCBlbGVtZW50ID0gZG9jdW1lbnQuY3JlYXRlRWxlbWVudCgnc3BhbicpOwogIGVsZW1lbnQudGV4dENvbnRlbnQgPSB0ZXh0OwogIGZvciAoY29uc3Qga2V5IG9mIE9iamVjdC5rZXlzKHN0eWxlQXR0cmlidXRlcykpIHsKICAgIGVsZW1lbnQuc3R5bGVba2V5XSA9IHN0eWxlQXR0cmlidXRlc1trZXldOwogIH0KICByZXR1cm4gZWxlbWVudDsKfQoKLy8gTWF4IG51bWJlciBvZiBieXRlcyB3aGljaCB3aWxsIGJlIHVwbG9hZGVkIGF0IGEgdGltZS4KY29uc3QgTUFYX1BBWUxPQURfU0laRSA9IDEwMCAqIDEwMjQ7CgpmdW5jdGlvbiBfdXBsb2FkRmlsZXMoaW5wdXRJZCwgb3V0cHV0SWQpIHsKICBjb25zdCBzdGVwcyA9IHVwbG9hZEZpbGVzU3RlcChpbnB1dElkLCBvdXRwdXRJZCk7CiAgY29uc3Qgb3V0cHV0RWxlbWVudCA9IGRvY3VtZW50LmdldEVsZW1lbnRCeUlkKG91dHB1dElkKTsKICAvLyBDYWNoZSBzdGVwcyBvbiB0aGUgb3V0cHV0RWxlbWVudCB0byBtYWtlIGl0IGF2YWlsYWJsZSBmb3IgdGhlIG5leHQgY2FsbAogIC8vIHRvIHVwbG9hZEZpbGVzQ29udGludWUgZnJvbSBQeXRob24uCiAgb3V0cHV0RWxlbWVudC5zdGVwcyA9IHN0ZXBzOwoKICByZXR1cm4gX3VwbG9hZEZpbGVzQ29udGludWUob3V0cHV0SWQpOwp9CgovLyBUaGlzIGlzIHJvdWdobHkgYW4gYXN5bmMgZ2VuZXJhdG9yIChub3Qgc3VwcG9ydGVkIGluIHRoZSBicm93c2VyIHlldCksCi8vIHdoZXJlIHRoZXJlIGFyZSBtdWx0aXBsZSBhc3luY2hyb25vdXMgc3RlcHMgYW5kIHRoZSBQeXRob24gc2lkZSBpcyBnb2luZwovLyB0byBwb2xsIGZvciBjb21wbGV0aW9uIG9mIGVhY2ggc3RlcC4KLy8gVGhpcyB1c2VzIGEgUHJvbWlzZSB0byBibG9jayB0aGUgcHl0aG9uIHNpZGUgb24gY29tcGxldGlvbiBvZiBlYWNoIHN0ZXAsCi8vIHRoZW4gcGFzc2VzIHRoZSByZXN1bHQgb2YgdGhlIHByZXZpb3VzIHN0ZXAgYXMgdGhlIGlucHV0IHRvIHRoZSBuZXh0IHN0ZXAuCmZ1bmN0aW9uIF91cGxvYWRGaWxlc0NvbnRpbnVlKG91dHB1dElkKSB7CiAgY29uc3Qgb3V0cHV0RWxlbWVudCA9IGRvY3VtZW50LmdldEVsZW1lbnRCeUlkKG91dHB1dElkKTsKICBjb25zdCBzdGVwcyA9IG91dHB1dEVsZW1lbnQuc3RlcHM7CgogIGNvbnN0IG5leHQgPSBzdGVwcy5uZXh0KG91dHB1dEVsZW1lbnQubGFzdFByb21pc2VWYWx1ZSk7CiAgcmV0dXJuIFByb21pc2UucmVzb2x2ZShuZXh0LnZhbHVlLnByb21pc2UpLnRoZW4oKHZhbHVlKSA9PiB7CiAgICAvLyBDYWNoZSB0aGUgbGFzdCBwcm9taXNlIHZhbHVlIHRvIG1ha2UgaXQgYXZhaWxhYmxlIHRvIHRoZSBuZXh0CiAgICAvLyBzdGVwIG9mIHRoZSBnZW5lcmF0b3IuCiAgICBvdXRwdXRFbGVtZW50Lmxhc3RQcm9taXNlVmFsdWUgPSB2YWx1ZTsKICAgIHJldHVybiBuZXh0LnZhbHVlLnJlc3BvbnNlOwogIH0pOwp9CgovKioKICogR2VuZXJhdG9yIGZ1bmN0aW9uIHdoaWNoIGlzIGNhbGxlZCBiZXR3ZWVuIGVhY2ggYXN5bmMgc3RlcCBvZiB0aGUgdXBsb2FkCiAqIHByb2Nlc3MuCiAqIEBwYXJhbSB7c3RyaW5nfSBpbnB1dElkIEVsZW1lbnQgSUQgb2YgdGhlIGlucHV0IGZpbGUgcGlja2VyIGVsZW1lbnQuCiAqIEBwYXJhbSB7c3RyaW5nfSBvdXRwdXRJZCBFbGVtZW50IElEIG9mIHRoZSBvdXRwdXQgZGlzcGxheS4KICogQHJldHVybiB7IUl0ZXJhYmxlPCFPYmplY3Q+fSBJdGVyYWJsZSBvZiBuZXh0IHN0ZXBzLgogKi8KZnVuY3Rpb24qIHVwbG9hZEZpbGVzU3RlcChpbnB1dElkLCBvdXRwdXRJZCkgewogIGNvbnN0IGlucHV0RWxlbWVudCA9IGRvY3VtZW50LmdldEVsZW1lbnRCeUlkKGlucHV0SWQpOwogIGlucHV0RWxlbWVudC5kaXNhYmxlZCA9IGZhbHNlOwoKICBjb25zdCBvdXRwdXRFbGVtZW50ID0gZG9jdW1lbnQuZ2V0RWxlbWVudEJ5SWQob3V0cHV0SWQpOwogIG91dHB1dEVsZW1lbnQuaW5uZXJIVE1MID0gJyc7CgogIGNvbnN0IHBpY2tlZFByb21pc2UgPSBuZXcgUHJvbWlzZSgocmVzb2x2ZSkgPT4gewogICAgaW5wdXRFbGVtZW50LmFkZEV2ZW50TGlzdGVuZXIoJ2NoYW5nZScsIChlKSA9PiB7CiAgICAgIHJlc29sdmUoZS50YXJnZXQuZmlsZXMpOwogICAgfSk7CiAgfSk7CgogIGNvbnN0IGNhbmNlbCA9IGRvY3VtZW50LmNyZWF0ZUVsZW1lbnQoJ2J1dHRvbicpOwogIGlucHV0RWxlbWVudC5wYXJlbnRFbGVtZW50LmFwcGVuZENoaWxkKGNhbmNlbCk7CiAgY2FuY2VsLnRleHRDb250ZW50ID0gJ0NhbmNlbCB1cGxvYWQnOwogIGNvbnN0IGNhbmNlbFByb21pc2UgPSBuZXcgUHJvbWlzZSgocmVzb2x2ZSkgPT4gewogICAgY2FuY2VsLm9uY2xpY2sgPSAoKSA9PiB7CiAgICAgIHJlc29sdmUobnVsbCk7CiAgICB9OwogIH0pOwoKICAvLyBXYWl0IGZvciB0aGUgdXNlciB0byBwaWNrIHRoZSBmaWxlcy4KICBjb25zdCBmaWxlcyA9IHlpZWxkIHsKICAgIHByb21pc2U6IFByb21pc2UucmFjZShbcGlja2VkUHJvbWlzZSwgY2FuY2VsUHJvbWlzZV0pLAogICAgcmVzcG9uc2U6IHsKICAgICAgYWN0aW9uOiAnc3RhcnRpbmcnLAogICAgfQogIH07CgogIGNhbmNlbC5yZW1vdmUoKTsKCiAgLy8gRGlzYWJsZSB0aGUgaW5wdXQgZWxlbWVudCBzaW5jZSBmdXJ0aGVyIHBpY2tzIGFyZSBub3QgYWxsb3dlZC4KICBpbnB1dEVsZW1lbnQuZGlzYWJsZWQgPSB0cnVlOwoKICBpZiAoIWZpbGVzKSB7CiAgICByZXR1cm4gewogICAgICByZXNwb25zZTogewogICAgICAgIGFjdGlvbjogJ2NvbXBsZXRlJywKICAgICAgfQogICAgfTsKICB9CgogIGZvciAoY29uc3QgZmlsZSBvZiBmaWxlcykgewogICAgY29uc3QgbGkgPSBkb2N1bWVudC5jcmVhdGVFbGVtZW50KCdsaScpOwogICAgbGkuYXBwZW5kKHNwYW4oZmlsZS5uYW1lLCB7Zm9udFdlaWdodDogJ2JvbGQnfSkpOwogICAgbGkuYXBwZW5kKHNwYW4oCiAgICAgICAgYCgke2ZpbGUudHlwZSB8fCAnbi9hJ30pIC0gJHtmaWxlLnNpemV9IGJ5dGVzLCBgICsKICAgICAgICBgbGFzdCBtb2RpZmllZDogJHsKICAgICAgICAgICAgZmlsZS5sYXN0TW9kaWZpZWREYXRlID8gZmlsZS5sYXN0TW9kaWZpZWREYXRlLnRvTG9jYWxlRGF0ZVN0cmluZygpIDoKICAgICAgICAgICAgICAgICAgICAgICAgICAgICAgICAgICAgJ24vYSd9IC0gYCkpOwogICAgY29uc3QgcGVyY2VudCA9IHNwYW4oJzAlIGRvbmUnKTsKICAgIGxpLmFwcGVuZENoaWxkKHBlcmNlbnQpOwoKICAgIG91dHB1dEVsZW1lbnQuYXBwZW5kQ2hpbGQobGkpOwoKICAgIGNvbnN0IGZpbGVEYXRhUHJvbWlzZSA9IG5ldyBQcm9taXNlKChyZXNvbHZlKSA9PiB7CiAgICAgIGNvbnN0IHJlYWRlciA9IG5ldyBGaWxlUmVhZGVyKCk7CiAgICAgIHJlYWRlci5vbmxvYWQgPSAoZSkgPT4gewogICAgICAgIHJlc29sdmUoZS50YXJnZXQucmVzdWx0KTsKICAgICAgfTsKICAgICAgcmVhZGVyLnJlYWRBc0FycmF5QnVmZmVyKGZpbGUpOwogICAgfSk7CiAgICAvLyBXYWl0IGZvciB0aGUgZGF0YSB0byBiZSByZWFkeS4KICAgIGxldCBmaWxlRGF0YSA9IHlpZWxkIHsKICAgICAgcHJvbWlzZTogZmlsZURhdGFQcm9taXNlLAogICAgICByZXNwb25zZTogewogICAgICAgIGFjdGlvbjogJ2NvbnRpbnVlJywKICAgICAgfQogICAgfTsKCiAgICAvLyBVc2UgYSBjaHVua2VkIHNlbmRpbmcgdG8gYXZvaWQgbWVzc2FnZSBzaXplIGxpbWl0cy4gU2VlIGIvNjIxMTU2NjAuCiAgICBsZXQgcG9zaXRpb24gPSAwOwogICAgd2hpbGUgKHBvc2l0aW9uIDwgZmlsZURhdGEuYnl0ZUxlbmd0aCkgewogICAgICBjb25zdCBsZW5ndGggPSBNYXRoLm1pbihmaWxlRGF0YS5ieXRlTGVuZ3RoIC0gcG9zaXRpb24sIE1BWF9QQVlMT0FEX1NJWkUpOwogICAgICBjb25zdCBjaHVuayA9IG5ldyBVaW50OEFycmF5KGZpbGVEYXRhLCBwb3NpdGlvbiwgbGVuZ3RoKTsKICAgICAgcG9zaXRpb24gKz0gbGVuZ3RoOwoKICAgICAgY29uc3QgYmFzZTY0ID0gYnRvYShTdHJpbmcuZnJvbUNoYXJDb2RlLmFwcGx5KG51bGwsIGNodW5rKSk7CiAgICAgIHlpZWxkIHsKICAgICAgICByZXNwb25zZTogewogICAgICAgICAgYWN0aW9uOiAnYXBwZW5kJywKICAgICAgICAgIGZpbGU6IGZpbGUubmFtZSwKICAgICAgICAgIGRhdGE6IGJhc2U2NCwKICAgICAgICB9LAogICAgICB9OwogICAgICBwZXJjZW50LnRleHRDb250ZW50ID0KICAgICAgICAgIGAke01hdGgucm91bmQoKHBvc2l0aW9uIC8gZmlsZURhdGEuYnl0ZUxlbmd0aCkgKiAxMDApfSUgZG9uZWA7CiAgICB9CiAgfQoKICAvLyBBbGwgZG9uZS4KICB5aWVsZCB7CiAgICByZXNwb25zZTogewogICAgICBhY3Rpb246ICdjb21wbGV0ZScsCiAgICB9CiAgfTsKfQoKc2NvcGUuZ29vZ2xlID0gc2NvcGUuZ29vZ2xlIHx8IHt9OwpzY29wZS5nb29nbGUuY29sYWIgPSBzY29wZS5nb29nbGUuY29sYWIgfHwge307CnNjb3BlLmdvb2dsZS5jb2xhYi5fZmlsZXMgPSB7CiAgX3VwbG9hZEZpbGVzLAogIF91cGxvYWRGaWxlc0NvbnRpbnVlLAp9Owp9KShzZWxmKTsK",
              "ok": true,
              "headers": [
                [
                  "content-type",
                  "application/javascript"
                ]
              ],
              "status": 200,
              "status_text": "OK"
            }
          },
          "base_uri": "https://localhost:8080/",
          "height": 79
        },
        "id": "GCfhAliUbKn6",
        "outputId": "d50694d0-afaa-4b92-f2f6-d4def5a335f6"
      },
      "source": [
        "from google.colab import files\n",
        "upload=files.upload()"
      ],
      "execution_count": 3,
      "outputs": [
        {
          "output_type": "display_data",
          "data": {
            "text/html": [
              "\n",
              "     <input type=\"file\" id=\"files-0a03a1f8-77d2-407b-bf6c-a2a7f0aeb959\" name=\"files[]\" multiple disabled\n",
              "        style=\"border:none\" />\n",
              "     <output id=\"result-0a03a1f8-77d2-407b-bf6c-a2a7f0aeb959\">\n",
              "      Upload widget is only available when the cell has been executed in the\n",
              "      current browser session. Please rerun this cell to enable.\n",
              "      </output>\n",
              "      <script src=\"/nbextensions/google.colab/files.js\"></script> "
            ],
            "text/plain": [
              "<IPython.core.display.HTML object>"
            ]
          },
          "metadata": {
            "tags": []
          }
        },
        {
          "output_type": "stream",
          "text": [
            "Saving publicDataSet.zip to publicDataSet.zip\n"
          ],
          "name": "stdout"
        }
      ]
    },
    {
      "cell_type": "code",
      "metadata": {
        "id": "k6f56rwWKJTf"
      },
      "source": [
        "import zipfile\n",
        "with zipfile.ZipFile('publicDataSet.zip', 'r') as zip:\n",
        "  zip.extractall('folder')"
      ],
      "execution_count": 4,
      "outputs": []
    },
    {
      "cell_type": "code",
      "metadata": {
        "id": "K2bLjtNEtoqB"
      },
      "source": [
        "#dataframes=[pd.read_csv(f) for f in files]"
      ],
      "execution_count": null,
      "outputs": []
    },
    {
      "cell_type": "code",
      "metadata": {
        "colab": {
          "base_uri": "https://localhost:8080/"
        },
        "id": "h_EhF2VYVOJh",
        "outputId": "a4c3411e-3ebb-4ae7-fc70-8e1cd230a2e9"
      },
      "source": [
        "import os \n",
        "\n",
        "dir= os.getcwd()\n",
        "print(dir)"
      ],
      "execution_count": 5,
      "outputs": [
        {
          "output_type": "stream",
          "text": [
            "/content\n"
          ],
          "name": "stdout"
        }
      ]
    },
    {
      "cell_type": "code",
      "metadata": {
        "colab": {
          "base_uri": "https://localhost:8080/"
        },
        "id": "FoKpVrL8Wd2N",
        "outputId": "a40887cb-438b-4177-c3e8-f66edc21b1a7"
      },
      "source": [
        "print(os.listdir('folder/public'))"
      ],
      "execution_count": null,
      "outputs": [
        {
          "output_type": "stream",
          "text": [
            "['inputs', 'set', 'outputs']\n"
          ],
          "name": "stdout"
        }
      ]
    },
    {
      "cell_type": "code",
      "metadata": {
        "colab": {
          "base_uri": "https://localhost:8080/"
        },
        "id": "zIaqM_K1W6ey",
        "outputId": "f582bd83-c1cd-4450-f655-641cb7d62c39"
      },
      "source": [
        "print(os.listdir(\"public\"))\n",
        "print(os.listdir(\"public/set\"))\n",
        "print(os.listdir(\"public/inputs\"))\n",
        "print(os.listdir(\"public/set/1/corpus\"))"
      ],
      "execution_count": null,
      "outputs": [
        {
          "output_type": "stream",
          "text": [
            "['inputs', 'set', 'outputs']\n",
            "['2', '4', '3', '1', '0']\n",
            "['4.txt', '3.txt', '1.txt', '2.txt', '0.txt']\n",
            "['es', 'en', 'fr']\n"
          ],
          "name": "stdout"
        }
      ]
    },
    {
      "cell_type": "markdown",
      "metadata": {
        "id": "y8rJNvxTZNyW"
      },
      "source": [
        "***Searching for .txt files in subfolders:***"
      ]
    },
    {
      "cell_type": "code",
      "metadata": {
        "colab": {
          "base_uri": "https://localhost:8080/"
        },
        "id": "yHDFDMSIMqIj",
        "outputId": "474aaec2-022d-41e0-e39e-6ff04be278e7"
      },
      "source": [
        "import glob\n",
        "result = []\n",
        "\n",
        "for x in os.walk('folder/public/set/0'):\n",
        "    for y in glob.glob(os.path.join(x[0], '*.txt')):\n",
        "        result.append(y)\n",
        "\n",
        "print(result)        "
      ],
      "execution_count": 113,
      "outputs": [
        {
          "output_type": "stream",
          "text": [
            "['folder/public/set/0/sequences.txt', 'folder/public/set/0/corpus/en/0.txt', 'folder/public/set/0/corpus/fr/0.txt']\n"
          ],
          "name": "stdout"
        }
      ]
    },
    {
      "cell_type": "code",
      "metadata": {
        "colab": {
          "base_uri": "https://localhost:8080/"
        },
        "id": "2A3aChj5KTB-",
        "outputId": "c54f11fa-99fa-4335-ed65-f06b491746cc"
      },
      "source": [
        "#glob is slow so it is better to use the following:\n",
        "\n",
        "def run_fast_scandir(dir, ext):    \n",
        "    subfolders, files = [], []\n",
        "\n",
        "    for f in os.scandir(dir):\n",
        "        if f.is_dir():\n",
        "            subfolders.append(f.path)\n",
        "        if f.is_file():\n",
        "            if os.path.splitext(f.name)[1].lower() in ext:\n",
        "                files.append(f.path)\n",
        "\n",
        "\n",
        "    for dir in list(subfolders):\n",
        "        sf, f = run_fast_scandir(dir, ext)\n",
        "        subfolders.extend(sf)\n",
        "        files.extend(f)\n",
        "    return subfolders, files\n",
        "\n",
        "\n",
        "subfolders, files = run_fast_scandir('folder', [\".txt\"])\n",
        "\n",
        "print(files)\n"
      ],
      "execution_count": 20,
      "outputs": [
        {
          "output_type": "stream",
          "text": [
            "['folder/public/set/2/sequences.txt', 'folder/public/set/2/corpus/en/6197521.txt', 'folder/public/set/2/corpus/en/B5HMAK/FHI6OG/7228807.txt', 'folder/public/set/2/corpus/en/B5HMAK/A1L7N6/2GK5PF/10L990/XYXOVQ/4515670.txt', 'folder/public/set/2/corpus/en/B5HMAK/A1L7N6/2GK5PF/10L990/XYXOVQ/44814027.txt', 'folder/public/set/2/corpus/en/B5HMAK/A1L7N6/F9JFZO/56673075.txt', 'folder/public/set/2/corpus/fr/11559207.txt', 'folder/public/set/2/corpus/fr/B5HMAK/FHI6OG/7854567.txt', 'folder/public/set/2/corpus/fr/B5HMAK/A1L7N6/VVGCDY/6246653.txt', 'folder/public/set/2/corpus/fr/B5HMAK/A1L7N6/VVGCDY/4340598.txt', 'folder/public/set/2/corpus/fr/B5HMAK/A1L7N6/F9JFZO/12315919.txt', 'folder/public/set/2/corpus/es/953016.txt', 'folder/public/set/2/corpus/es/6211391.txt', 'folder/public/set/2/corpus/es/B5HMAK/FHI6OG/7278382.txt', 'folder/public/set/2/corpus/es/B5HMAK/A1L7N6/2GK5PF/10L990/XYXOVQ/8621150.txt', 'folder/public/set/2/corpus/es/B5HMAK/A1L7N6/VVGCDY/7755134.txt', 'folder/public/set/0/sequences.txt', 'folder/public/set/0/corpus/en/0.txt', 'folder/public/set/0/corpus/fr/0.txt', 'folder/public/set/4/sequences.txt', 'folder/public/set/4/corpus/en/EQK6YD/M1X5I1/1356810.txt', 'folder/public/set/4/corpus/en/EQK6YD/M1X5I1/39790308.txt', 'folder/public/set/4/corpus/en/EQK6YD/M1X5I1/4209605.txt', 'folder/public/set/4/corpus/en/EQK6YD/M1X5I1/20305647.txt', 'folder/public/set/4/corpus/en/EQK6YD/M1X5I1/58256883.txt', 'folder/public/set/4/corpus/en/EQK6YD/M1X5I1/49203714.txt', 'folder/public/set/4/corpus/en/EQK6YD/M1X5I1/4381096.txt', 'folder/public/set/4/corpus/en/EQK6YD/M1X5I1/31530466.txt', 'folder/public/set/4/corpus/en/EQK6YD/M1X5I1/2653724.txt', 'folder/public/set/4/corpus/en/EQK6YD/M1X5I1/217870.txt', 'folder/public/set/4/corpus/en/EQK6YD/M1X5I1/50432571.txt', 'folder/public/set/4/corpus/en/EQK6YD/1PGD2S/50910961.txt', 'folder/public/set/4/corpus/en/EQK6YD/1PGD2S/23522675.txt', 'folder/public/set/4/corpus/en/EQK6YD/1PGD2S/52888844.txt', 'folder/public/set/4/corpus/en/EQK6YD/1PGD2S/44764367.txt', 'folder/public/set/4/corpus/en/EQK6YD/1PGD2S/38643778.txt', 'folder/public/set/4/corpus/en/EQK6YD/1PGD2S/282998.txt', 'folder/public/set/4/corpus/en/EQK6YD/1PGD2S/1327843.txt', 'folder/public/set/4/corpus/en/EQK6YD/1PGD2S/55394416.txt', 'folder/public/set/4/corpus/en/EQK6YD/1PGD2S/31250252.txt', 'folder/public/set/4/corpus/en/EQK6YD/1PGD2S/40972256.txt', 'folder/public/set/4/corpus/en/EQK6YD/1PGD2S/38010258.txt', 'folder/public/set/4/corpus/en/EQK6YD/1PGD2S/57330854.txt', 'folder/public/set/4/corpus/en/EQK6YD/1PGD2S/31005210.txt', 'folder/public/set/4/corpus/en/EQK6YD/1PGD2S/42408382.txt', 'folder/public/set/4/corpus/en/EQK6YD/1PGD2S/2263631.txt', 'folder/public/set/4/corpus/en/EQK6YD/1PGD2S/25452706.txt', 'folder/public/set/4/corpus/en/EQK6YD/1PGD2S/59420118.txt', 'folder/public/set/4/corpus/en/EQK6YD/1PGD2S/46244154.txt', 'folder/public/set/4/corpus/en/EQK6YD/1PGD2S/12670360.txt', 'folder/public/set/4/corpus/en/EQK6YD/1PGD2S/11643313.txt', 'folder/public/set/4/corpus/en/EQK6YD/1PGD2S/27094346.txt', 'folder/public/set/4/corpus/en/EQK6YD/1PGD2S/41141919.txt', 'folder/public/set/4/corpus/en/EQK6YD/1PGD2S/7644873.txt', 'folder/public/set/4/corpus/en/EQK6YD/1PGD2S/6J15XQ/SJJ0CI/359129.txt', 'folder/public/set/4/corpus/en/EQK6YD/1PGD2S/6J15XQ/SJJ0CI/3497037.txt', 'folder/public/set/4/corpus/en/EQK6YD/1PGD2S/6J15XQ/SJJ0CI/53306149.txt', 'folder/public/set/4/corpus/en/EQK6YD/1PGD2S/6J15XQ/SJJ0CI/16198876.txt', 'folder/public/set/4/corpus/en/EQK6YD/1PGD2S/6J15XQ/SJJ0CI/1706281.txt', 'folder/public/set/4/corpus/en/EQK6YD/1PGD2S/6J15XQ/SJJ0CI/1474970.txt', 'folder/public/set/4/corpus/en/EQK6YD/1PGD2S/6J15XQ/SJJ0CI/6856360.txt', 'folder/public/set/4/corpus/en/EQK6YD/1PGD2S/6J15XQ/SJJ0CI/20538974.txt', 'folder/public/set/4/corpus/en/EQK6YD/1PGD2S/6J15XQ/SJJ0CI/38697281.txt', 'folder/public/set/4/corpus/en/EQK6YD/1PGD2S/6J15XQ/SJJ0CI/33120385.txt', 'folder/public/set/4/corpus/en/EQK6YD/1PGD2S/6J15XQ/SJJ0CI/55190826.txt', 'folder/public/set/4/corpus/en/EQK6YD/1PGD2S/6J15XQ/SJJ0CI/6828423.txt', 'folder/public/set/4/corpus/en/EQK6YD/1PGD2S/6J15XQ/SJJ0CI/5575117.txt', 'folder/public/set/4/corpus/en/EQK6YD/1PGD2S/6J15XQ/SJJ0CI/11804801.txt', 'folder/public/set/4/corpus/en/EQK6YD/1PGD2S/6J15XQ/SJJ0CI/45257726.txt', 'folder/public/set/4/corpus/en/EQK6YD/1PGD2S/6J15XQ/SJJ0CI/10295438.txt', 'folder/public/set/4/corpus/en/EQK6YD/1PGD2S/6J15XQ/SJJ0CI/35924515.txt', 'folder/public/set/4/corpus/en/EQK6YD/1PGD2S/6J15XQ/SJJ0CI/6593645.txt', 'folder/public/set/4/corpus/en/EQK6YD/1PGD2S/6J15XQ/SJJ0CI/33246590.txt', 'folder/public/set/4/corpus/en/EQK6YD/1PGD2S/6J15XQ/SJJ0CI/29958843.txt', 'folder/public/set/4/corpus/en/EQK6YD/1PGD2S/6J15XQ/SJJ0CI/38099355.txt', 'folder/public/set/4/corpus/en/EQK6YD/1PGD2S/6J15XQ/SJJ0CI/20886269.txt', 'folder/public/set/4/corpus/en/EQK6YD/1PGD2S/6J15XQ/SJJ0CI/54274948.txt', 'folder/public/set/4/corpus/en/EQK6YD/1PGD2S/6J15XQ/SJJ0CI/49089356.txt', 'folder/public/set/4/corpus/en/EQK6YD/1PGD2S/6J15XQ/SJJ0CI/9960552.txt', 'folder/public/set/4/corpus/en/EQK6YD/1PGD2S/6J15XQ/SJJ0CI/16883.txt', 'folder/public/set/4/corpus/en/EQK6YD/1PGD2S/6J15XQ/WCIP5V/55585402.txt', 'folder/public/set/4/corpus/en/EQK6YD/1PGD2S/6J15XQ/WCIP5V/27850831.txt', 'folder/public/set/4/corpus/en/EQK6YD/1PGD2S/6J15XQ/WCIP5V/2068560.txt', 'folder/public/set/4/corpus/en/EQK6YD/1PGD2S/6J15XQ/WCIP5V/52752189.txt', 'folder/public/set/4/corpus/en/EQK6YD/1PGD2S/6J15XQ/WCIP5V/55689701.txt', 'folder/public/set/4/corpus/en/EQK6YD/1PGD2S/6J15XQ/WCIP5V/11547451.txt', 'folder/public/set/4/corpus/en/EQK6YD/1PGD2S/6J15XQ/WCIP5V/1628239.txt', 'folder/public/set/4/corpus/en/EQK6YD/1PGD2S/6J15XQ/WCIP5V/38957481.txt', 'folder/public/set/4/corpus/en/EQK6YD/1PGD2S/6J15XQ/WCIP5V/26916648.txt', 'folder/public/set/4/corpus/en/EQK6YD/1PGD2S/6J15XQ/WCIP5V/23647718.txt', 'folder/public/set/4/corpus/en/EQK6YD/1PGD2S/6J15XQ/WCIP5V/12373890.txt', 'folder/public/set/4/corpus/en/EQK6YD/1PGD2S/6J15XQ/WCIP5V/34237150.txt', 'folder/public/set/4/corpus/en/EQK6YD/1PGD2S/6J15XQ/WCIP5V/3891685.txt', 'folder/public/set/4/corpus/en/EQK6YD/1PGD2S/6J15XQ/WCIP5V/2962216.txt', 'folder/public/set/4/corpus/en/EQK6YD/1PGD2S/6J15XQ/WCIP5V/27879793.txt', 'folder/public/set/4/corpus/en/EQK6YD/1PGD2S/6J15XQ/WCIP5V/485002.txt', 'folder/public/set/4/corpus/en/EQK6YD/1PGD2S/6J15XQ/WCIP5V/76928.txt', 'folder/public/set/4/corpus/en/EQK6YD/1PGD2S/6J15XQ/WCIP5V/12496268.txt', 'folder/public/set/4/corpus/en/EQK6YD/1PGD2S/6J15XQ/WCIP5V/4424878.txt', 'folder/public/set/4/corpus/en/EQK6YD/1PGD2S/6J15XQ/WCIP5V/34565927.txt', 'folder/public/set/4/corpus/en/EQK6YD/1PGD2S/6J15XQ/WCIP5V/42854935.txt', 'folder/public/set/4/corpus/en/EQK6YD/1PGD2S/6J15XQ/WCIP5V/711968.txt', 'folder/public/set/4/corpus/en/EQK6YD/1PGD2S/6J15XQ/WCIP5V/6540142.txt', 'folder/public/set/4/corpus/en/EQK6YD/1PGD2S/6J15XQ/WCIP5V/38837538.txt', 'folder/public/set/4/corpus/en/EQK6YD/1PGD2S/6J15XQ/WCIP5V/38275501.txt', 'folder/public/set/4/corpus/en/EQK6YD/1PGD2S/6J15XQ/WCIP5V/4962173.txt', 'folder/public/set/4/corpus/en/EQK6YD/1PGD2S/6J15XQ/JFFP03/6BDF5R/50607523.txt', 'folder/public/set/4/corpus/en/EQK6YD/1PGD2S/6J15XQ/JFFP03/6BDF5R/28877287.txt', 'folder/public/set/4/corpus/en/EQK6YD/1PGD2S/6J15XQ/JFFP03/6BDF5R/32852454.txt', 'folder/public/set/4/corpus/en/EQK6YD/1PGD2S/6J15XQ/JFFP03/6BDF5R/2253651.txt', 'folder/public/set/4/corpus/en/EQK6YD/1PGD2S/6J15XQ/JFFP03/6BDF5R/2528829.txt', 'folder/public/set/4/corpus/en/EQK6YD/1PGD2S/6J15XQ/JFFP03/6BDF5R/39522941.txt', 'folder/public/set/4/corpus/en/EQK6YD/1PGD2S/6J15XQ/JFFP03/6BDF5R/59938908.txt', 'folder/public/set/4/corpus/en/EQK6YD/1PGD2S/6J15XQ/JFFP03/6BDF5R/31022585.txt', 'folder/public/set/4/corpus/en/EQK6YD/1PGD2S/6J15XQ/JFFP03/6BDF5R/54863485.txt', 'folder/public/set/4/corpus/en/EQK6YD/1PGD2S/6J15XQ/JFFP03/6BDF5R/26146723.txt', 'folder/public/set/4/corpus/en/EQK6YD/1PGD2S/6J15XQ/JFFP03/6BDF5R/23168170.txt', 'folder/public/set/4/corpus/en/EQK6YD/1PGD2S/6J15XQ/JFFP03/6BDF5R/10394806.txt', 'folder/public/set/4/corpus/en/EQK6YD/1PGD2S/6J15XQ/JFFP03/6BDF5R/6173751.txt', 'folder/public/set/4/corpus/en/EQK6YD/1PGD2S/6J15XQ/JFFP03/6BDF5R/5422627.txt', 'folder/public/set/4/corpus/fr/EQK6YD/M1X5I1/5024276.txt', 'folder/public/set/4/corpus/fr/EQK6YD/M1X5I1/10288712.txt', 'folder/public/set/4/corpus/fr/EQK6YD/M1X5I1/8821208.txt', 'folder/public/set/4/corpus/fr/EQK6YD/M1X5I1/5968757.txt', 'folder/public/set/4/corpus/fr/EQK6YD/M1X5I1/2764313.txt', 'folder/public/set/4/corpus/fr/EQK6YD/M1X5I1/10192815.txt', 'folder/public/set/4/corpus/fr/EQK6YD/M1X5I1/5037534.txt', 'folder/public/set/4/corpus/fr/EQK6YD/M1X5I1/3645687.txt', 'folder/public/set/4/corpus/fr/EQK6YD/M1X5I1/203511.txt', 'folder/public/set/4/corpus/fr/EQK6YD/M1X5I1/3801696.txt', 'folder/public/set/4/corpus/fr/EQK6YD/M1X5I1/3990052.txt', 'folder/public/set/4/corpus/fr/EQK6YD/M1X5I1/7703811.txt', 'folder/public/set/4/corpus/fr/EQK6YD/M1X5I1/3605690.txt', 'folder/public/set/4/corpus/fr/EQK6YD/M1X5I1/12340566.txt', 'folder/public/set/4/corpus/fr/EQK6YD/M1X5I1/5121801.txt', 'folder/public/set/4/corpus/fr/EQK6YD/M1X5I1/295068.txt', 'folder/public/set/4/corpus/fr/EQK6YD/M1X5I1/9945330.txt', 'folder/public/set/4/corpus/fr/EQK6YD/M1X5I1/870507.txt', 'folder/public/set/4/corpus/fr/EQK6YD/M1X5I1/1271297.txt', 'folder/public/set/4/corpus/fr/EQK6YD/M1X5I1/9353523.txt', 'folder/public/set/4/corpus/fr/EQK6YD/M1X5I1/2061149.txt', 'folder/public/set/4/corpus/fr/EQK6YD/M1X5I1/1980107.txt', 'folder/public/set/4/corpus/fr/EQK6YD/M1X5I1/8463020.txt', 'folder/public/set/4/corpus/fr/EQK6YD/M1X5I1/1374439.txt', 'folder/public/set/4/corpus/fr/EQK6YD/1PGD2S/571037.txt', 'folder/public/set/4/corpus/fr/EQK6YD/1PGD2S/273600.txt', 'folder/public/set/4/corpus/fr/EQK6YD/1PGD2S/9163899.txt', 'folder/public/set/4/corpus/fr/EQK6YD/1PGD2S/284786.txt', 'folder/public/set/4/corpus/fr/EQK6YD/1PGD2S/11964930.txt', 'folder/public/set/4/corpus/fr/EQK6YD/1PGD2S/3995508.txt', 'folder/public/set/4/corpus/fr/EQK6YD/1PGD2S/4951636.txt', 'folder/public/set/4/corpus/fr/EQK6YD/1PGD2S/798486.txt', 'folder/public/set/4/corpus/fr/EQK6YD/1PGD2S/5202554.txt', 'folder/public/set/4/corpus/fr/EQK6YD/1PGD2S/8047156.txt', 'folder/public/set/4/corpus/fr/EQK6YD/1PGD2S/6049184.txt', 'folder/public/set/4/corpus/fr/EQK6YD/1PGD2S/138233.txt', 'folder/public/set/4/corpus/fr/EQK6YD/1PGD2S/1664733.txt', 'folder/public/set/4/corpus/fr/EQK6YD/1PGD2S/1205393.txt', 'folder/public/set/4/corpus/fr/EQK6YD/1PGD2S/39117.txt', 'folder/public/set/4/corpus/fr/EQK6YD/1PGD2S/3140566.txt', 'folder/public/set/4/corpus/fr/EQK6YD/1PGD2S/1479310.txt', 'folder/public/set/4/corpus/fr/EQK6YD/1PGD2S/7404445.txt', 'folder/public/set/4/corpus/fr/EQK6YD/1PGD2S/5688139.txt', 'folder/public/set/4/corpus/fr/EQK6YD/1PGD2S/6J15XQ/SJJ0CI/4972899.txt', 'folder/public/set/4/corpus/fr/EQK6YD/1PGD2S/6J15XQ/SJJ0CI/2993203.txt', 'folder/public/set/4/corpus/fr/EQK6YD/1PGD2S/6J15XQ/SJJ0CI/949724.txt', 'folder/public/set/4/corpus/fr/EQK6YD/1PGD2S/6J15XQ/SJJ0CI/3889043.txt', 'folder/public/set/4/corpus/fr/EQK6YD/1PGD2S/6J15XQ/SJJ0CI/896037.txt', 'folder/public/set/4/corpus/fr/EQK6YD/1PGD2S/6J15XQ/SJJ0CI/11944182.txt', 'folder/public/set/4/corpus/fr/EQK6YD/1PGD2S/6J15XQ/SJJ0CI/8807605.txt', 'folder/public/set/4/corpus/fr/EQK6YD/1PGD2S/6J15XQ/SJJ0CI/848875.txt', 'folder/public/set/4/corpus/fr/EQK6YD/1PGD2S/6J15XQ/SJJ0CI/23138.txt', 'folder/public/set/4/corpus/fr/EQK6YD/1PGD2S/6J15XQ/SJJ0CI/5168978.txt', 'folder/public/set/4/corpus/fr/EQK6YD/1PGD2S/6J15XQ/SJJ0CI/7482583.txt', 'folder/public/set/4/corpus/fr/EQK6YD/1PGD2S/6J15XQ/SJJ0CI/4380249.txt', 'folder/public/set/4/corpus/fr/EQK6YD/1PGD2S/6J15XQ/SJJ0CI/1879591.txt', 'folder/public/set/4/corpus/fr/EQK6YD/1PGD2S/6J15XQ/SJJ0CI/11187071.txt', 'folder/public/set/4/corpus/fr/EQK6YD/1PGD2S/6J15XQ/SJJ0CI/888482.txt', 'folder/public/set/4/corpus/fr/EQK6YD/1PGD2S/6J15XQ/SJJ0CI/1596969.txt', 'folder/public/set/4/corpus/fr/EQK6YD/1PGD2S/6J15XQ/SJJ0CI/5951096.txt', 'folder/public/set/4/corpus/fr/EQK6YD/1PGD2S/6J15XQ/SJJ0CI/1446580.txt', 'folder/public/set/4/corpus/fr/EQK6YD/1PGD2S/6J15XQ/SJJ0CI/6947076.txt', 'folder/public/set/4/corpus/fr/EQK6YD/1PGD2S/6J15XQ/WCIP5V/1247976.txt', 'folder/public/set/4/corpus/fr/EQK6YD/1PGD2S/6J15XQ/WCIP5V/5821585.txt', 'folder/public/set/4/corpus/fr/EQK6YD/1PGD2S/6J15XQ/WCIP5V/7737557.txt', 'folder/public/set/4/corpus/fr/EQK6YD/1PGD2S/6J15XQ/WCIP5V/4120939.txt', 'folder/public/set/4/corpus/fr/EQK6YD/1PGD2S/6J15XQ/WCIP5V/7471825.txt', 'folder/public/set/4/corpus/fr/EQK6YD/1PGD2S/6J15XQ/WCIP5V/404251.txt', 'folder/public/set/4/corpus/fr/EQK6YD/1PGD2S/6J15XQ/WCIP5V/2914953.txt', 'folder/public/set/4/corpus/fr/EQK6YD/1PGD2S/6J15XQ/WCIP5V/3783003.txt', 'folder/public/set/4/corpus/fr/EQK6YD/1PGD2S/6J15XQ/WCIP5V/6181848.txt', 'folder/public/set/4/corpus/fr/EQK6YD/1PGD2S/6J15XQ/WCIP5V/974566.txt', 'folder/public/set/4/corpus/fr/EQK6YD/1PGD2S/6J15XQ/WCIP5V/5605430.txt', 'folder/public/set/4/corpus/fr/EQK6YD/1PGD2S/6J15XQ/WCIP5V/3239937.txt', 'folder/public/set/4/corpus/fr/EQK6YD/1PGD2S/6J15XQ/WCIP5V/1243139.txt', 'folder/public/set/4/corpus/fr/EQK6YD/1PGD2S/6J15XQ/WCIP5V/4271608.txt', 'folder/public/set/4/corpus/fr/EQK6YD/1PGD2S/6J15XQ/WCIP5V/11208967.txt', 'folder/public/set/4/corpus/fr/EQK6YD/1PGD2S/6J15XQ/WCIP5V/350456.txt', 'folder/public/set/4/corpus/fr/EQK6YD/1PGD2S/6J15XQ/WCIP5V/7135076.txt', 'folder/public/set/4/corpus/fr/EQK6YD/1PGD2S/6J15XQ/WCIP5V/698887.txt', 'folder/public/set/4/corpus/fr/EQK6YD/1PGD2S/6J15XQ/WCIP5V/10355561.txt', 'folder/public/set/4/corpus/fr/EQK6YD/1PGD2S/6J15XQ/WCIP5V/1021588.txt', 'folder/public/set/4/corpus/fr/EQK6YD/1PGD2S/6J15XQ/WCIP5V/7111547.txt', 'folder/public/set/4/corpus/fr/EQK6YD/1PGD2S/6J15XQ/WCIP5V/8979030.txt', 'folder/public/set/4/corpus/fr/EQK6YD/1PGD2S/6J15XQ/JFFP03/6BDF5R/2914997.txt', 'folder/public/set/4/corpus/fr/EQK6YD/1PGD2S/6J15XQ/JFFP03/6BDF5R/9540443.txt', 'folder/public/set/4/corpus/fr/EQK6YD/1PGD2S/6J15XQ/JFFP03/6BDF5R/11051285.txt', 'folder/public/set/4/corpus/fr/EQK6YD/1PGD2S/6J15XQ/JFFP03/6BDF5R/382525.txt', 'folder/public/set/4/corpus/fr/EQK6YD/1PGD2S/6J15XQ/JFFP03/6BDF5R/4871526.txt', 'folder/public/set/4/corpus/fr/EQK6YD/1PGD2S/6J15XQ/JFFP03/6BDF5R/6017117.txt', 'folder/public/set/4/corpus/fr/EQK6YD/1PGD2S/6J15XQ/JFFP03/6BDF5R/5769619.txt', 'folder/public/set/4/corpus/fr/EQK6YD/1PGD2S/6J15XQ/JFFP03/6BDF5R/11885338.txt', 'folder/public/set/4/corpus/fr/EQK6YD/1PGD2S/6J15XQ/JFFP03/6BDF5R/8786722.txt', 'folder/public/set/4/corpus/fr/EQK6YD/1PGD2S/6J15XQ/JFFP03/6BDF5R/5413695.txt', 'folder/public/set/4/corpus/fr/EQK6YD/1PGD2S/6J15XQ/JFFP03/6BDF5R/868242.txt', 'folder/public/set/4/corpus/fr/EQK6YD/1PGD2S/6J15XQ/JFFP03/6BDF5R/6934635.txt', 'folder/public/set/4/corpus/fr/EQK6YD/1PGD2S/6J15XQ/JFFP03/6BDF5R/3600797.txt', 'folder/public/set/4/corpus/fr/EQK6YD/1PGD2S/6J15XQ/JFFP03/6BDF5R/6379666.txt', 'folder/public/set/4/corpus/fr/EQK6YD/1PGD2S/6J15XQ/JFFP03/6BDF5R/1387989.txt', 'folder/public/set/4/corpus/fr/EQK6YD/1PGD2S/6J15XQ/JFFP03/6BDF5R/674851.txt', 'folder/public/set/4/corpus/de/EQK6YD/M1X5I1/3312132.txt', 'folder/public/set/4/corpus/de/EQK6YD/M1X5I1/9568683.txt', 'folder/public/set/4/corpus/de/EQK6YD/M1X5I1/10506299.txt', 'folder/public/set/4/corpus/de/EQK6YD/M1X5I1/250094.txt', 'folder/public/set/4/corpus/de/EQK6YD/M1X5I1/2120200.txt', 'folder/public/set/4/corpus/de/EQK6YD/M1X5I1/4671759.txt', 'folder/public/set/4/corpus/de/EQK6YD/M1X5I1/5113936.txt', 'folder/public/set/4/corpus/de/EQK6YD/M1X5I1/5896792.txt', 'folder/public/set/4/corpus/de/EQK6YD/M1X5I1/8989167.txt', 'folder/public/set/4/corpus/de/EQK6YD/M1X5I1/8452704.txt', 'folder/public/set/4/corpus/de/EQK6YD/M1X5I1/5968491.txt', 'folder/public/set/4/corpus/de/EQK6YD/M1X5I1/4750473.txt', 'folder/public/set/4/corpus/de/EQK6YD/M1X5I1/74270.txt', 'folder/public/set/4/corpus/de/EQK6YD/M1X5I1/311342.txt', 'folder/public/set/4/corpus/de/EQK6YD/M1X5I1/501493.txt', 'folder/public/set/4/corpus/de/EQK6YD/M1X5I1/6570058.txt', 'folder/public/set/4/corpus/de/EQK6YD/M1X5I1/8784621.txt', 'folder/public/set/4/corpus/de/EQK6YD/M1X5I1/1046349.txt', 'folder/public/set/4/corpus/de/EQK6YD/M1X5I1/4836410.txt', 'folder/public/set/4/corpus/de/EQK6YD/1PGD2S/5312557.txt', 'folder/public/set/4/corpus/de/EQK6YD/1PGD2S/5226577.txt', 'folder/public/set/4/corpus/de/EQK6YD/1PGD2S/10547144.txt', 'folder/public/set/4/corpus/de/EQK6YD/1PGD2S/2398582.txt', 'folder/public/set/4/corpus/de/EQK6YD/1PGD2S/2877222.txt', 'folder/public/set/4/corpus/de/EQK6YD/1PGD2S/3576566.txt', 'folder/public/set/4/corpus/de/EQK6YD/1PGD2S/9560104.txt', 'folder/public/set/4/corpus/de/EQK6YD/1PGD2S/1976827.txt', 'folder/public/set/4/corpus/de/EQK6YD/1PGD2S/4288971.txt', 'folder/public/set/4/corpus/de/EQK6YD/1PGD2S/9436186.txt', 'folder/public/set/4/corpus/de/EQK6YD/1PGD2S/5076957.txt', 'folder/public/set/4/corpus/de/EQK6YD/1PGD2S/1139695.txt', 'folder/public/set/4/corpus/de/EQK6YD/1PGD2S/6J15XQ/SJJ0CI/2768406.txt', 'folder/public/set/4/corpus/de/EQK6YD/1PGD2S/6J15XQ/SJJ0CI/2558209.txt', 'folder/public/set/4/corpus/de/EQK6YD/1PGD2S/6J15XQ/SJJ0CI/216703.txt', 'folder/public/set/4/corpus/de/EQK6YD/1PGD2S/6J15XQ/SJJ0CI/7525666.txt', 'folder/public/set/4/corpus/de/EQK6YD/1PGD2S/6J15XQ/SJJ0CI/3705268.txt', 'folder/public/set/4/corpus/de/EQK6YD/1PGD2S/6J15XQ/SJJ0CI/1281303.txt', 'folder/public/set/4/corpus/de/EQK6YD/1PGD2S/6J15XQ/SJJ0CI/703495.txt', 'folder/public/set/4/corpus/de/EQK6YD/1PGD2S/6J15XQ/SJJ0CI/705996.txt', 'folder/public/set/4/corpus/de/EQK6YD/1PGD2S/6J15XQ/SJJ0CI/5623150.txt', 'folder/public/set/4/corpus/de/EQK6YD/1PGD2S/6J15XQ/SJJ0CI/4187710.txt', 'folder/public/set/4/corpus/de/EQK6YD/1PGD2S/6J15XQ/SJJ0CI/1622571.txt', 'folder/public/set/4/corpus/de/EQK6YD/1PGD2S/6J15XQ/SJJ0CI/9524650.txt', 'folder/public/set/4/corpus/de/EQK6YD/1PGD2S/6J15XQ/SJJ0CI/3544636.txt', 'folder/public/set/4/corpus/de/EQK6YD/1PGD2S/6J15XQ/SJJ0CI/6534982.txt', 'folder/public/set/4/corpus/de/EQK6YD/1PGD2S/6J15XQ/SJJ0CI/79605.txt', 'folder/public/set/4/corpus/de/EQK6YD/1PGD2S/6J15XQ/SJJ0CI/4637353.txt', 'folder/public/set/4/corpus/de/EQK6YD/1PGD2S/6J15XQ/SJJ0CI/4778612.txt', 'folder/public/set/4/corpus/de/EQK6YD/1PGD2S/6J15XQ/SJJ0CI/9984122.txt', 'folder/public/set/4/corpus/de/EQK6YD/1PGD2S/6J15XQ/SJJ0CI/6233485.txt', 'folder/public/set/4/corpus/de/EQK6YD/1PGD2S/6J15XQ/SJJ0CI/3183754.txt', 'folder/public/set/4/corpus/de/EQK6YD/1PGD2S/6J15XQ/WCIP5V/8563401.txt', 'folder/public/set/4/corpus/de/EQK6YD/1PGD2S/6J15XQ/WCIP5V/4479630.txt', 'folder/public/set/4/corpus/de/EQK6YD/1PGD2S/6J15XQ/WCIP5V/717877.txt', 'folder/public/set/4/corpus/de/EQK6YD/1PGD2S/6J15XQ/WCIP5V/10208772.txt', 'folder/public/set/4/corpus/de/EQK6YD/1PGD2S/6J15XQ/WCIP5V/95615.txt', 'folder/public/set/4/corpus/de/EQK6YD/1PGD2S/6J15XQ/WCIP5V/542113.txt', 'folder/public/set/4/corpus/de/EQK6YD/1PGD2S/6J15XQ/WCIP5V/929234.txt', 'folder/public/set/4/corpus/de/EQK6YD/1PGD2S/6J15XQ/WCIP5V/1995604.txt', 'folder/public/set/4/corpus/de/EQK6YD/1PGD2S/6J15XQ/WCIP5V/9087592.txt', 'folder/public/set/4/corpus/de/EQK6YD/1PGD2S/6J15XQ/WCIP5V/3842276.txt', 'folder/public/set/4/corpus/de/EQK6YD/1PGD2S/6J15XQ/WCIP5V/9994440.txt', 'folder/public/set/4/corpus/de/EQK6YD/1PGD2S/6J15XQ/WCIP5V/8119933.txt', 'folder/public/set/4/corpus/de/EQK6YD/1PGD2S/6J15XQ/WCIP5V/9915707.txt', 'folder/public/set/4/corpus/de/EQK6YD/1PGD2S/6J15XQ/WCIP5V/16695.txt', 'folder/public/set/4/corpus/de/EQK6YD/1PGD2S/6J15XQ/WCIP5V/2647956.txt', 'folder/public/set/4/corpus/de/EQK6YD/1PGD2S/6J15XQ/WCIP5V/3366068.txt', 'folder/public/set/4/corpus/de/EQK6YD/1PGD2S/6J15XQ/WCIP5V/250174.txt', 'folder/public/set/4/corpus/de/EQK6YD/1PGD2S/6J15XQ/WCIP5V/2439232.txt', 'folder/public/set/4/corpus/de/EQK6YD/1PGD2S/6J15XQ/WCIP5V/9648097.txt', 'folder/public/set/4/corpus/de/EQK6YD/1PGD2S/6J15XQ/WCIP5V/192979.txt', 'folder/public/set/4/corpus/de/EQK6YD/1PGD2S/6J15XQ/WCIP5V/33191.txt', 'folder/public/set/4/corpus/de/EQK6YD/1PGD2S/6J15XQ/WCIP5V/6119724.txt', 'folder/public/set/4/corpus/de/EQK6YD/1PGD2S/6J15XQ/WCIP5V/4475796.txt', 'folder/public/set/4/corpus/de/EQK6YD/1PGD2S/6J15XQ/WCIP5V/3738927.txt', 'folder/public/set/4/corpus/de/EQK6YD/1PGD2S/6J15XQ/WCIP5V/6198787.txt', 'folder/public/set/4/corpus/de/EQK6YD/1PGD2S/6J15XQ/JFFP03/6BDF5R/310213.txt', 'folder/public/set/4/corpus/de/EQK6YD/1PGD2S/6J15XQ/JFFP03/6BDF5R/2620606.txt', 'folder/public/set/4/corpus/de/EQK6YD/1PGD2S/6J15XQ/JFFP03/6BDF5R/39840.txt', 'folder/public/set/4/corpus/de/EQK6YD/1PGD2S/6J15XQ/JFFP03/6BDF5R/184264.txt', 'folder/public/set/4/corpus/de/EQK6YD/1PGD2S/6J15XQ/JFFP03/6BDF5R/2621078.txt', 'folder/public/set/4/corpus/de/EQK6YD/1PGD2S/6J15XQ/JFFP03/6BDF5R/4180152.txt', 'folder/public/set/4/corpus/de/EQK6YD/1PGD2S/6J15XQ/JFFP03/6BDF5R/1099095.txt', 'folder/public/set/4/corpus/de/EQK6YD/1PGD2S/6J15XQ/JFFP03/6BDF5R/334990.txt', 'folder/public/set/4/corpus/de/EQK6YD/1PGD2S/6J15XQ/JFFP03/6BDF5R/8354477.txt', 'folder/public/set/4/corpus/de/EQK6YD/1PGD2S/6J15XQ/JFFP03/6BDF5R/9120596.txt', 'folder/public/set/4/corpus/de/EQK6YD/1PGD2S/6J15XQ/JFFP03/6BDF5R/10507079.txt', 'folder/public/set/4/corpus/de/EQK6YD/1PGD2S/6J15XQ/JFFP03/6BDF5R/9949075.txt', 'folder/public/set/4/corpus/de/EQK6YD/1PGD2S/6J15XQ/JFFP03/6BDF5R/8778116.txt', 'folder/public/set/4/corpus/de/EQK6YD/1PGD2S/6J15XQ/JFFP03/6BDF5R/10390511.txt', 'folder/public/set/4/corpus/de/EQK6YD/1PGD2S/6J15XQ/JFFP03/6BDF5R/4732511.txt', 'folder/public/set/4/corpus/de/EQK6YD/1PGD2S/6J15XQ/JFFP03/6BDF5R/5692200.txt', 'folder/public/set/4/corpus/de/EQK6YD/1PGD2S/6J15XQ/JFFP03/6BDF5R/795065.txt', 'folder/public/set/4/corpus/de/EQK6YD/1PGD2S/6J15XQ/JFFP03/6BDF5R/1263313.txt', 'folder/public/set/4/corpus/de/EQK6YD/1PGD2S/6J15XQ/JFFP03/6BDF5R/5754786.txt', 'folder/public/set/4/corpus/de/EQK6YD/1PGD2S/6J15XQ/JFFP03/6BDF5R/2559082.txt', 'folder/public/set/4/corpus/de/EQK6YD/1PGD2S/6J15XQ/JFFP03/6BDF5R/6517037.txt', 'folder/public/set/4/corpus/de/EQK6YD/1PGD2S/6J15XQ/JFFP03/6BDF5R/6286217.txt', 'folder/public/set/4/corpus/de/EQK6YD/1PGD2S/6J15XQ/JFFP03/6BDF5R/2152815.txt', 'folder/public/set/4/corpus/de/EQK6YD/1PGD2S/6J15XQ/JFFP03/6BDF5R/4079192.txt', 'folder/public/set/1/sequences.txt', 'folder/public/set/1/corpus/en/58072403.txt', 'folder/public/set/1/corpus/en/49391126.txt', 'folder/public/set/1/corpus/en/33655466.txt', 'folder/public/set/1/corpus/fr/4909038.txt', 'folder/public/set/1/corpus/fr/5175121.txt', 'folder/public/set/1/corpus/fr/10041445.txt', 'folder/public/set/1/corpus/es/8275477.txt', 'folder/public/set/1/corpus/es/940476.txt', 'folder/public/set/1/corpus/es/5871284.txt', 'folder/public/set/3/sequences.txt', 'folder/public/set/3/corpus/hr/9DNBVP/487859.txt', 'folder/public/set/3/corpus/hr/9DNBVP/283886.txt', 'folder/public/set/3/corpus/hr/9DNBVP/616674.txt', 'folder/public/set/3/corpus/hr/9DNBVP/ZQWAFV/489993.txt', 'folder/public/set/3/corpus/hr/9DNBVP/ZQWAFV/342849.txt', 'folder/public/set/3/corpus/hr/9DNBVP/243N9W/56IKVV/299762.txt', 'folder/public/set/3/corpus/hr/9DNBVP/243N9W/56IKVV/229504.txt', 'folder/public/set/3/corpus/en/SVFHOR/57291578.txt', 'folder/public/set/3/corpus/en/94W323/0ROVGM/41069685.txt', 'folder/public/set/3/corpus/en/94W323/0ROVGM/WRN549/1259280.txt', 'folder/public/set/3/corpus/en/94W323/0ROVGM/6UH5KL/2C68TS/NQT8MG/39052325.txt', 'folder/public/set/3/corpus/en/94W323/0ROVGM/6UH5KL/2C68TS/NQT8MG/5599931.txt', 'folder/public/set/3/corpus/en/94W323/0ROVGM/6UH5KL/2C68TS/NQT8MG/24202074.txt', 'folder/public/set/3/corpus/en/94W323/0ROVGM/P6P00Q/41820463.txt', 'folder/public/set/3/corpus/hu/SVFHOR/1348743.txt', 'folder/public/set/3/corpus/hu/SVFHOR/1364464.txt', 'folder/public/set/3/corpus/hu/SVFHOR/1242094.txt', 'folder/public/set/3/corpus/hu/94W323/0ROVGM/14605.txt', 'folder/public/set/3/corpus/hu/94W323/0ROVGM/WRN549/1386307.txt', 'folder/public/set/3/corpus/hu/94W323/0ROVGM/6UH5KL/2C68TS/NQT8MG/142607.txt', 'folder/public/set/3/corpus/hu/94W323/0ROVGM/P6P00Q/866251.txt', 'folder/public/set/3/corpus/de/SVFHOR/3558028.txt', 'folder/public/set/3/corpus/de/SVFHOR/9737501.txt', 'folder/public/set/3/corpus/de/94W323/0ROVGM/4889155.txt', 'folder/public/set/3/corpus/de/94W323/0ROVGM/9777603.txt', 'folder/public/set/3/corpus/de/94W323/0ROVGM/WRN549/5737188.txt', 'folder/public/set/3/corpus/de/94W323/0ROVGM/6UH5KL/2C68TS/NQT8MG/2897822.txt', 'folder/public/set/3/corpus/de/94W323/0ROVGM/P6P00Q/187428.txt', 'folder/public/inputs/4.txt', 'folder/public/inputs/1.txt', 'folder/public/inputs/2.txt', 'folder/public/inputs/3.txt', 'folder/public/inputs/0.txt', 'folder/public/outputs/4.txt', 'folder/public/outputs/1.txt', 'folder/public/outputs/2.txt', 'folder/public/outputs/3.txt', 'folder/public/outputs/0.txt']\n"
          ],
          "name": "stdout"
        }
      ]
    },
    {
      "cell_type": "code",
      "metadata": {
        "colab": {
          "base_uri": "https://localhost:8080/"
        },
        "id": "_mBsXX9k67l4",
        "outputId": "f7b7eb50-293b-49f0-9e77-dd0b31dafa40"
      },
      "source": [
        "if __name__ == \"__main__\":\n",
        "  path = input()\n",
        "  file = open(path, \"r\")\n",
        "  #data = file.read().replace('\\n', '')"
      ],
      "execution_count": null,
      "outputs": [
        {
          "output_type": "stream",
          "text": [
            "public/set/2/corpus/en/6197521.txt\n"
          ],
          "name": "stdout"
        }
      ]
    },
    {
      "cell_type": "code",
      "metadata": {
        "colab": {
          "base_uri": "https://localhost:8080/",
          "height": 140
        },
        "id": "SXeUh2CQBdWD",
        "outputId": "fd5cc423-9efe-41a8-8212-96431fbefb50"
      },
      "source": [
        "file.read()"
      ],
      "execution_count": null,
      "outputs": [
        {
          "output_type": "execute_result",
          "data": {
            "application/vnd.google.colaboratory.intrinsic+json": {
              "type": "string"
            },
            "text/plain": [
              "\"John Dighton (1909 – 1989) was a British playwright and screenwriter.\\nDighton wrote for the stage until 1936, when he made the transition to films. His output during the 1940s included comedian Will Hay's last starring features, and several George Formby films as well as the 1947 adaptation of Charles Dickens' Nicholas Nickleby, and the 1943 war movie Undercover starring John Clements and Michael Wilding.\\nEmployed by Ealing Studios, he collaborated on the screenplays of such celebrated comedies as Kind Hearts and Coronets (1949) and The Man in the White Suit (1952), sharing an Academy Award nomination for the latter. He gained a second nomination for the American-financed Roman Holiday (1953).\\nTwo of his more popular stage plays, The Happiest Days of Your Life and Who Goes There! (known as The Passionate Sentry in the USA), were successfully adapted for the screen by Dighton himself, the former in collaboration with Frank Launder.\\nHis final screen credit was his adaptation of George Bernard Shaw's The Devil's Disciple, penned in collaboration with Roland Kibbee.\""
            ]
          },
          "metadata": {
            "tags": []
          },
          "execution_count": 229
        }
      ]
    },
    {
      "cell_type": "code",
      "metadata": {
        "colab": {
          "base_uri": "https://localhost:8080/"
        },
        "id": "6ierPgl_B1wl",
        "outputId": "ec808a03-454f-4fcd-9efc-58eecb976883"
      },
      "source": [
        "from pathlib import Path\n",
        "\n",
        "#copy text file contents into a variable(string) and close the file in one line:\n",
        "txt = Path(input()).read_text().replace('\\n', '').replace('\\r', '').lower()\n",
        "#deleting \\n and \\r, small letters"
      ],
      "execution_count": null,
      "outputs": [
        {
          "output_type": "stream",
          "text": [
            "public/set/2/corpus/en/6197521.txt\n"
          ],
          "name": "stdout"
        }
      ]
    },
    {
      "cell_type": "code",
      "metadata": {
        "colab": {
          "base_uri": "https://localhost:8080/",
          "height": 140
        },
        "id": "ERzXg4DRHJN8",
        "outputId": "02870659-b934-48fc-97ff-e70d3e3d9676"
      },
      "source": [
        "txt"
      ],
      "execution_count": null,
      "outputs": [
        {
          "output_type": "execute_result",
          "data": {
            "application/vnd.google.colaboratory.intrinsic+json": {
              "type": "string"
            },
            "text/plain": [
              "\"john dighton (1909 – 1989) was a british playwright and screenwriter.dighton wrote for the stage until 1936, when he made the transition to films. his output during the 1940s included comedian will hay's last starring features, and several george formby films as well as the 1947 adaptation of charles dickens' nicholas nickleby, and the 1943 war movie undercover starring john clements and michael wilding.employed by ealing studios, he collaborated on the screenplays of such celebrated comedies as kind hearts and coronets (1949) and the man in the white suit (1952), sharing an academy award nomination for the latter. he gained a second nomination for the american-financed roman holiday (1953).two of his more popular stage plays, the happiest days of your life and who goes there! (known as the passionate sentry in the usa), were successfully adapted for the screen by dighton himself, the former in collaboration with frank launder.his final screen credit was his adaptation of george bernard shaw's the devil's disciple, penned in collaboration with roland kibbee.\""
            ]
          },
          "metadata": {
            "tags": []
          },
          "execution_count": 255
        }
      ]
    },
    {
      "cell_type": "code",
      "metadata": {
        "colab": {
          "base_uri": "https://localhost:8080/"
        },
        "id": "LPwbQirEHqZ5",
        "outputId": "6c5db5a6-83e1-431c-ef88-35191e36a191"
      },
      "source": [
        "detect_langs(txt)"
      ],
      "execution_count": null,
      "outputs": [
        {
          "output_type": "execute_result",
          "data": {
            "text/plain": [
              "[en:0.9999963394638802]"
            ]
          },
          "metadata": {
            "tags": []
          },
          "execution_count": 256
        }
      ]
    },
    {
      "cell_type": "code",
      "metadata": {
        "id": "ky6OovFN7uB9"
      },
      "source": [
        "def word_count(str):\n",
        "    counts = dict()\n",
        "    words = str.split()\n",
        "\n",
        "    for word in words:\n",
        "        if word in counts:\n",
        "            counts[word] += 1\n",
        "        else:\n",
        "            counts[word] = 1\n",
        "\n",
        "    return counts\n",
        "\n"
      ],
      "execution_count": 73,
      "outputs": []
    },
    {
      "cell_type": "code",
      "metadata": {
        "colab": {
          "base_uri": "https://localhost:8080/"
        },
        "id": "mmCBG2uRahsa",
        "outputId": "065f60be-f0e0-4416-dc80-93eb019fc602"
      },
      "source": [
        "from collections import Counter\n",
        "\n",
        "list=[]\n",
        "list1=[]\n",
        "\n",
        "for lines in result:\n",
        "  line= open(lines, \"r\") \n",
        "  for l in line:\n",
        "    try:\n",
        "      tmp=ld.detect(l)\n",
        "      list.append(tmp)\n",
        "    except:\n",
        "      continue  \n",
        "  list1.extend(list)  \n",
        "  c=Counter(list1)\n",
        "#  c1=c.most_common(1)\n",
        "print(c)\n",
        "\n",
        "line.close()"
      ],
      "execution_count": 116,
      "outputs": [
        {
          "output_type": "stream",
          "text": [
            "Counter({'so': 13, 'cy': 7, 'hu': 6, 'ca': 3, 'it': 2, 'nl': 2, 'fi': 1, 'sv': 1, 'sq': 1})\n"
          ],
          "name": "stdout"
        }
      ]
    }
  ]
}